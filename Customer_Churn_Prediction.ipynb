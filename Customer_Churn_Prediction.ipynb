{
 "cells": [
  {
   "cell_type": "markdown",
   "id": "503ac664-3146-44ab-9bbc-f045e2eb4d6d",
   "metadata": {},
   "source": [
    "## Machine Learning Project: Customer Churn Predictions"
   ]
  },
  {
   "cell_type": "code",
   "execution_count": 10,
   "id": "c3e7ab6b-e730-4e46-b3f7-efa454308d9c",
   "metadata": {},
   "outputs": [],
   "source": [
    "import numpy as np\n",
    "import matplotlib.pyplot as plt\n",
    "import pandas as pd\n",
    "from sklearn.model_selection import train_test_split\n",
    "from sklearn.preprocessing import LabelEncoder, OneHotEncoder, StandardScaler\n",
    "from sklearn.metrics import confusion_matrix, classification_report\n",
    "from sklearn.linear_model import LogisticRegression\n",
    "from sklearn.metrics import accuracy_score, make_scorer, precision_score, recall_score\n",
    "from sklearn.pipeline import Pipeline\n",
    "from sklearn.model_selection import GridSearchCV"
   ]
  },
  {
   "cell_type": "markdown",
   "id": "41a7a1e1-1de4-4ab3-a94d-5b028a6436c9",
   "metadata": {},
   "source": [
    "### Loading and displaying data from Telco Customer Churn (https://www.kaggle.com/datasets/blastchar/telco-customer-churn)"
   ]
  },
  {
   "cell_type": "code",
   "execution_count": 2,
   "id": "d276c852-7cad-468d-a860-636e5e7e580d",
   "metadata": {
    "scrolled": true
   },
   "outputs": [
    {
     "name": "stdout",
     "output_type": "stream",
     "text": [
      "   customerID  gender  SeniorCitizen Partner Dependents  tenure PhoneService  \\\n",
      "0  7590-VHVEG  Female              0     Yes         No       1           No   \n",
      "1  5575-GNVDE    Male              0      No         No      34          Yes   \n",
      "2  3668-QPYBK    Male              0      No         No       2          Yes   \n",
      "3  7795-CFOCW    Male              0      No         No      45           No   \n",
      "4  9237-HQITU  Female              0      No         No       2          Yes   \n",
      "\n",
      "      MultipleLines InternetService OnlineSecurity  ... DeviceProtection  \\\n",
      "0  No phone service             DSL             No  ...               No   \n",
      "1                No             DSL            Yes  ...              Yes   \n",
      "2                No             DSL            Yes  ...               No   \n",
      "3  No phone service             DSL            Yes  ...              Yes   \n",
      "4                No     Fiber optic             No  ...               No   \n",
      "\n",
      "  TechSupport StreamingTV StreamingMovies        Contract PaperlessBilling  \\\n",
      "0          No          No              No  Month-to-month              Yes   \n",
      "1          No          No              No        One year               No   \n",
      "2          No          No              No  Month-to-month              Yes   \n",
      "3         Yes          No              No        One year               No   \n",
      "4          No          No              No  Month-to-month              Yes   \n",
      "\n",
      "               PaymentMethod MonthlyCharges  TotalCharges Churn  \n",
      "0           Electronic check          29.85         29.85    No  \n",
      "1               Mailed check          56.95        1889.5    No  \n",
      "2               Mailed check          53.85        108.15   Yes  \n",
      "3  Bank transfer (automatic)          42.30       1840.75    No  \n",
      "4           Electronic check          70.70        151.65   Yes  \n",
      "\n",
      "[5 rows x 21 columns]\n",
      "<class 'pandas.core.frame.DataFrame'>\n",
      "RangeIndex: 7043 entries, 0 to 7042\n",
      "Data columns (total 21 columns):\n",
      " #   Column            Non-Null Count  Dtype  \n",
      "---  ------            --------------  -----  \n",
      " 0   customerID        7043 non-null   object \n",
      " 1   gender            7043 non-null   object \n",
      " 2   SeniorCitizen     7043 non-null   int64  \n",
      " 3   Partner           7043 non-null   object \n",
      " 4   Dependents        7043 non-null   object \n",
      " 5   tenure            7043 non-null   int64  \n",
      " 6   PhoneService      7043 non-null   object \n",
      " 7   MultipleLines     7043 non-null   object \n",
      " 8   InternetService   7043 non-null   object \n",
      " 9   OnlineSecurity    7043 non-null   object \n",
      " 10  OnlineBackup      7043 non-null   object \n",
      " 11  DeviceProtection  7043 non-null   object \n",
      " 12  TechSupport       7043 non-null   object \n",
      " 13  StreamingTV       7043 non-null   object \n",
      " 14  StreamingMovies   7043 non-null   object \n",
      " 15  Contract          7043 non-null   object \n",
      " 16  PaperlessBilling  7043 non-null   object \n",
      " 17  PaymentMethod     7043 non-null   object \n",
      " 18  MonthlyCharges    7043 non-null   float64\n",
      " 19  TotalCharges      7043 non-null   object \n",
      " 20  Churn             7043 non-null   object \n",
      "dtypes: float64(1), int64(2), object(18)\n",
      "memory usage: 1.1+ MB\n",
      "None\n",
      "       SeniorCitizen       tenure  MonthlyCharges\n",
      "count    7043.000000  7043.000000     7043.000000\n",
      "mean        0.162147    32.371149       64.761692\n",
      "std         0.368612    24.559481       30.090047\n",
      "min         0.000000     0.000000       18.250000\n",
      "25%         0.000000     9.000000       35.500000\n",
      "50%         0.000000    29.000000       70.350000\n",
      "75%         0.000000    55.000000       89.850000\n",
      "max         1.000000    72.000000      118.750000\n",
      "customerID          0\n",
      "gender              0\n",
      "SeniorCitizen       0\n",
      "Partner             0\n",
      "Dependents          0\n",
      "tenure              0\n",
      "PhoneService        0\n",
      "MultipleLines       0\n",
      "InternetService     0\n",
      "OnlineSecurity      0\n",
      "OnlineBackup        0\n",
      "DeviceProtection    0\n",
      "TechSupport         0\n",
      "StreamingTV         0\n",
      "StreamingMovies     0\n",
      "Contract            0\n",
      "PaperlessBilling    0\n",
      "PaymentMethod       0\n",
      "MonthlyCharges      0\n",
      "TotalCharges        0\n",
      "Churn               0\n",
      "dtype: int64\n"
     ]
    }
   ],
   "source": [
    "data_file = pd.read_csv('WA_Fn-UseC_-Telco-Customer-Churn.csv')\n",
    "print(data_file.head())\n",
    "\n",
    "# Check column names and data types\n",
    "print(data_file.info())\n",
    "\n",
    "# Summary statistics\n",
    "print(data_file.describe())\n",
    "\n",
    "# Check for missing values\n",
    "print(data_file.isnull().sum())"
   ]
  },
  {
   "cell_type": "markdown",
   "id": "2e5bfefc-6b2a-4212-9038-51b598495453",
   "metadata": {},
   "source": [
    "### PREPROCESSING\n",
    "Convert categorical columns into numbers using LabelEncoder and OneHotEncoder"
   ]
  },
  {
   "cell_type": "code",
   "execution_count": 3,
   "id": "a0f1a281-2cfd-4f69-9dc5-f9feef61b217",
   "metadata": {},
   "outputs": [
    {
     "name": "stderr",
     "output_type": "stream",
     "text": [
      "/tmp/ipykernel_1655/1939008193.py:19: FutureWarning: A value is trying to be set on a copy of a DataFrame or Series through chained assignment using an inplace method.\n",
      "The behavior will change in pandas 3.0. This inplace method will never work because the intermediate object on which we are setting values always behaves as a copy.\n",
      "\n",
      "For example, when doing 'df[col].method(value, inplace=True)', try using 'df.method({col: value}, inplace=True)' or df[col] = df[col].method(value) instead, to perform the operation inplace on the original object.\n",
      "\n",
      "\n",
      "  x[\"TotalCharges\"].fillna(0, inplace=True)\n"
     ]
    }
   ],
   "source": [
    "x = pd.get_dummies(data_file, columns=[\"InternetService\", \"Contract\", \"PaymentMethod\",\"MultipleLines\"], drop_first=True)\n",
    "y = data_file[\"Churn\"]  # 'Churn' column is the target variable (y)\n",
    "#gender = pd.get_dummies(data_file['gender'], drop_first=True)  # Convert categorical columns into numbers\n",
    "encoder = LabelEncoder()\n",
    "one_enc = OneHotEncoder(sparse_output=False,handle_unknown='ignore')\n",
    "y=encoder.fit_transform(y)\n",
    "categorical_columns = [\"gender\", \"Partner\", \"Dependents\", \"PhoneService\",\"OnlineSecurity\",\"DeviceProtection\",\n",
    "                       \"TechSupport\",\"StreamingTV\",\"StreamingMovies\",\"PaperlessBilling\",\n",
    "                       \"OnlineBackup\",\"InternetService_Fiber optic\", \"InternetService_No\",\n",
    "                       \"Contract_One year\", \"Contract_Two year\",\"PaymentMethod_Credit card (automatic)\",\n",
    "                       \"PaymentMethod_Electronic check\", \"PaymentMethod_Mailed check\",\n",
    "                       \"MultipleLines_No phone service\",\"MultipleLines_Yes\"]  # Add all categorical column names here\n",
    "\n",
    "for col in categorical_columns:\n",
    "    x[col] = one_enc.fit_transform(x[[col]])  # Encode all categorical columns\n",
    "\n",
    "x[\"TotalCharges\"] = pd.to_numeric(x[\"TotalCharges\"], errors=\"coerce\")\n",
    "\n",
    "x[\"TotalCharges\"].fillna(0, inplace=True)\n",
    "x = x.drop(\"Churn\", axis=1)  # Drop the 'Churn' column from features (X)\n",
    "x = x.drop(\"customerID\", axis=1)  # Drop the 'Churn' column from features (X)"
   ]
  },
  {
   "cell_type": "markdown",
   "id": "a47db053-6d5b-41c4-98ee-8547e0c3aa59",
   "metadata": {},
   "source": [
    "### MODEL AND GRIDSEARCH \n",
    "Implement the Logistic Regression model adapting the maximum iterations depinding on the computing capacity. Gridsearch is used to test how different parameters, in this cases class weight, impact the precision, accuracy and recall score of the model.\n",
    "\n",
    "We fit over the recall score as in this case we prefer minimizing false negatives than false positives."
   ]
  },
  {
   "cell_type": "code",
   "execution_count": null,
   "id": "66bbf329-5292-4717-a2ef-ff69d3c9b3c4",
   "metadata": {},
   "outputs": [],
   "source": [
    "#X_train, X_test, y_train, y_test = train_test_split(x, y, test_size=0.33, random_state=42)\n",
    "#pipe = Pipeline([\n",
    "#    (\"scale\",StandardScaler()),\n",
    "#    (\"model\",LogisticRegression(max_iter=1000))])\n",
    "#pipe.fit(X_train, y_train)\n",
    "\n",
    "# Train the model\n",
    "\n",
    "grid = GridSearchCV(\n",
    "    estimator=LogisticRegression(max_iter=10000),\n",
    "    param_grid={'class_weight':[{0:1,1:n} for n in np.linspace(1,20,20)]},\n",
    "    scoring={'precision':make_scorer(precision_score),'recall_score':make_scorer(recall_score),\n",
    "             'accuracy':make_scorer(accuracy_score)},\n",
    "    refit='recall_score',\n",
    "    return_train_score=True,\n",
    "    cv=10,\n",
    "    n_jobs=-1)\n",
    "grid.fit(x, y)\n",
    "\n",
    "# Make predictions\n",
    "y_pred = grid.predict(x)"
   ]
  },
  {
   "cell_type": "code",
   "execution_count": null,
   "id": "df248de2-db60-477e-8d64-fa8d7542f5a0",
   "metadata": {},
   "outputs": [],
   "source": [
    "data=pd.DataFrame(grid.cv_results_)\n",
    "arr = np.linspace(1,20,20)\n",
    "plt.plot(arr,data['mean_test_precision'],label='test precision score')\n",
    "plt.plot(arr,data['mean_test_recall_score'],label='test recall score')\n",
    "plt.plot(arr,data['mean_test_accuracy'],label='train accuracy score')\n",
    "\n",
    "plt.legend()\n",
    "plt.show()\n"
   ]
  },
  {
   "cell_type": "code",
   "execution_count": null,
   "id": "716a14ef-0ac1-4670-8370-da8e19a2a43a",
   "metadata": {},
   "outputs": [],
   "source": []
  }
 ],
 "metadata": {
  "kernelspec": {
   "display_name": "Python 3 (ipykernel)",
   "language": "python",
   "name": "python3"
  },
  "language_info": {
   "codemirror_mode": {
    "name": "ipython",
    "version": 3
   },
   "file_extension": ".py",
   "mimetype": "text/x-python",
   "name": "python",
   "nbconvert_exporter": "python",
   "pygments_lexer": "ipython3",
   "version": "3.12.3"
  }
 },
 "nbformat": 4,
 "nbformat_minor": 5
}
